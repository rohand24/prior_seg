{
 "cells": [
  {
   "cell_type": "code",
   "execution_count": 1,
   "metadata": {},
   "outputs": [],
   "source": [
    "import segmentation_models_pytorch as smp\n",
    "import torch\n",
    "import ipdb"
   ]
  },
  {
   "cell_type": "code",
   "execution_count": null,
   "metadata": {},
   "outputs": [],
   "source": [
    "device = torch.device(\"cuda:0\" if torch.cuda.is_available() else \"cpu\")\n",
    "print(device)"
   ]
  },
  {
   "cell_type": "code",
   "execution_count": null,
   "metadata": {},
   "outputs": [],
   "source": [
    "model = smp.FPN(encoder_name= \"densenet121\",\n",
    "        encoder_depth= 5,\n",
    "        encoder_weights= None,\n",
    "        decoder_pyramid_channels= 256,\n",
    "        decoder_segmentation_channels= 128,\n",
    "        decoder_merge_policy= \"add\",\n",
    "        decoder_dropout= 0.2,\n",
    "        in_channels= 1,\n",
    "        classes= 33,\n",
    "        activation= 'sigmoid',\n",
    "        upsampling= 4\n",
    "    )\n",
    "# model = model.to(device)\n"
   ]
  },
  {
   "cell_type": "code",
   "execution_count": null,
   "metadata": {},
   "outputs": [],
   "source": [
    "from torchsummaryX import summary\n",
    "# arch = summary(model, torch.zeros((1, 1, 256, 256)))"
   ]
  },
  {
   "cell_type": "code",
   "execution_count": null,
   "metadata": {},
   "outputs": [],
   "source": []
  },
  {
   "cell_type": "code",
   "execution_count": null,
   "metadata": {},
   "outputs": [],
   "source": []
  },
  {
   "cell_type": "code",
   "execution_count": null,
   "metadata": {},
   "outputs": [],
   "source": []
  },
  {
   "cell_type": "code",
   "execution_count": 2,
   "metadata": {},
   "outputs": [
    {
     "name": "stdout",
     "output_type": "stream",
     "text": [
      "Dataset length:  60178\n"
     ]
    }
   ],
   "source": [
    "from prior_dataloader import retrace_parser\n",
    "\n",
    "root = '/home/rohan/Datasets/prior_clean/train/'\n",
    "rp = retrace_parser(root)\n",
    "img_files, mask_names = rp.create_dataset()"
   ]
  },
  {
   "cell_type": "code",
   "execution_count": 3,
   "metadata": {},
   "outputs": [
    {
     "data": {
      "text/plain": [
       "'/home/rohan/Datasets/prior_clean/train/images/1.190926791160849.959...27404.45618687682615.627775..033815865/Anterior1MandibleB/im.jpg'"
      ]
     },
     "execution_count": 3,
     "metadata": {},
     "output_type": "execute_result"
    }
   ],
   "source": [
    "img_files[1]"
   ]
  },
  {
   "cell_type": "code",
   "execution_count": 4,
   "metadata": {},
   "outputs": [
    {
     "data": {
      "text/plain": [
       "['/home/rohan/Datasets/prior_clean/train/masks/1.190926791160849.959...27404.45618687682615.627775..033815865/Anterior1MandibleB/23.jpg',\n",
       " '/home/rohan/Datasets/prior_clean/train/masks/1.190926791160849.959...27404.45618687682615.627775..033815865/Anterior1MandibleB/24.jpg',\n",
       " '/home/rohan/Datasets/prior_clean/train/masks/1.190926791160849.959...27404.45618687682615.627775..033815865/Anterior1MandibleB/25.jpg',\n",
       " '/home/rohan/Datasets/prior_clean/train/masks/1.190926791160849.959...27404.45618687682615.627775..033815865/Anterior1MandibleB/26.jpg',\n",
       " '/home/rohan/Datasets/prior_clean/train/masks/1.190926791160849.959...27404.45618687682615.627775..033815865/Anterior1MandibleB/l.jpg',\n",
       " '/home/rohan/Datasets/prior_clean/train/masks/1.190926791160849.959...27404.45618687682615.627775..033815865/Anterior1MandibleB/m.jpg',\n",
       " '/home/rohan/Datasets/prior_clean/train/masks/1.190926791160849.959...27404.45618687682615.627775..033815865/Anterior1MandibleB/n.jpg',\n",
       " '/home/rohan/Datasets/prior_clean/train/masks/1.190926791160849.959...27404.45618687682615.627775..033815865/Anterior1MandibleB/o.jpg',\n",
       " '/home/rohan/Datasets/prior_clean/train/masks/1.190926791160849.959...27404.45618687682615.627775..033815865/Anterior1MandibleB/p.jpg',\n",
       " '/home/rohan/Datasets/prior_clean/train/masks/1.190926791160849.959...27404.45618687682615.627775..033815865/Anterior1MandibleB/q.jpg',\n",
       " '/home/rohan/Datasets/prior_clean/train/masks/1.190926791160849.959...27404.45618687682615.627775..033815865/Anterior1MandibleB/r.jpg',\n",
       " '/home/rohan/Datasets/prior_clean/train/masks/1.190926791160849.959...27404.45618687682615.627775..033815865/Anterior1MandibleB/s.jpg',\n",
       " '/home/rohan/Datasets/prior_clean/train/masks/1.190926791160849.959...27404.45618687682615.627775..033815865/Anterior1MandibleB/t.jpg']"
      ]
     },
     "execution_count": 4,
     "metadata": {},
     "output_type": "execute_result"
    }
   ],
   "source": [
    "mask_names[1]"
   ]
  },
  {
   "cell_type": "code",
   "execution_count": 5,
   "metadata": {},
   "outputs": [],
   "source": [
    "prior_dict = {'crown':1, 'bridge':2,\n",
    "               'gutta-percha':3, 'pin':4, 'post':5, 'buildup':6, 'calculus':7, 'sealer':8,\n",
    "               'cement':9, 'bracket':20, 'retainer':11, 'instrument':12, 'implant':13, 'screw':14,\n",
    "               'veneer':15, 'silver-point':16, 'space-maintainer':17, 'core':18, 'base':19,\n",
    "               'temporary-filling':20, 'medicament':21, 'framework':22, 'liner':23, 'onlay-composite':24,\n",
    "               'onlay-metal':25, 'onlay-ceramic':26, 'inlay-ceramic':27, 'inlay-composite':28, 'inlay-metal':29,\n",
    "               'filling-composite':30, 'filling-glass':31, 'filling-metal':32, 'caries':33, 'caries2':33,'caries3':33}\n",
    "\n",
    "reverse_prior_dict = {v: k for k, v in prior_dict.items()}"
   ]
  },
  {
   "cell_type": "code",
   "execution_count": null,
   "metadata": {},
   "outputs": [],
   "source": []
  },
  {
   "cell_type": "code",
   "execution_count": 6,
   "metadata": {},
   "outputs": [],
   "source": [
    "import numpy as np\n"
   ]
  },
  {
   "cell_type": "code",
   "execution_count": 7,
   "metadata": {},
   "outputs": [
    {
     "name": "stdout",
     "output_type": "stream",
     "text": [
      "{'caries': 20993, 'caries3': 17103, 'filling-composite': 22138, 'caries2': 20479, 'filling-metal': 22086, 'bridge': 4009, 'crown': 19482, 'implant': 1411, 'gutta-percha': 9933, 'post': 4634, 'sealer': 1021, 'calculus': 13756, 'cement': 2503, 'filling-glass': 2879, 'core': 5323, 'buildup': 732, 'bracket': 394, 'base': 5056, 'liner': 453, 'retainer': 223, 'temporary-filling': 295, 'onlay-composite': 638, 'onlay-ceramic': 305, 'veneer': 155, 'instrument': 482, 'medicament': 396, 'space-maintainer': 408, 'onlay-metal': 810, 'pin': 442, 'framework': 49, 'inlay-metal': 113, 'inlay-composite': 69, 'inlay-ceramic': 61, 'silver-point': 143, 'screw': 73}\n"
     ]
    }
   ],
   "source": [
    "import ipdb\n",
    "\n",
    "# prior_labels = np.zeros((len(list(prior_dict.keys()))))\n",
    "\n",
    "count_dict = {}\n",
    "x = 0\n",
    "for mask_list in mask_names:\n",
    "    label_names = []\n",
    "    label_names = [m.split('/')[-1].split('.')[0] for m in mask_list]\n",
    "#     ipdb.set_trace()\n",
    "    for label in label_names:\n",
    "        if label in list(prior_dict.keys()):\n",
    "            if label not in list(count_dict.keys()):\n",
    "                count_dict[label] = 1\n",
    "            else:\n",
    "                count_dict[label] +=1\n",
    "\n",
    "print(count_dict)"
   ]
  },
  {
   "cell_type": "code",
   "execution_count": 19,
   "metadata": {},
   "outputs": [
    {
     "data": {
      "text/plain": [
       "60178"
      ]
     },
     "execution_count": 19,
     "metadata": {},
     "output_type": "execute_result"
    }
   ],
   "source": [
    "len(mask_names)"
   ]
  },
  {
   "cell_type": "code",
   "execution_count": 20,
   "metadata": {},
   "outputs": [
    {
     "data": {
      "text/plain": [
       "array([19482.,  4009.,  9933.,   442.,  4634.,   732., 13756.,  1021.,\n",
       "        2503.,     0.,   223.,   482.,  1411.,    73.,   155.,   143.,\n",
       "         408.,  5323.,  5056.,   689.,   396.,    49.,   453.,   638.,\n",
       "         810.,   305.,    61.,    69.,   113., 22138.,  2879., 22086.])"
      ]
     },
     "execution_count": 20,
     "metadata": {},
     "output_type": "execute_result"
    }
   ],
   "source": [
    "prior_labels"
   ]
  },
  {
   "cell_type": "code",
   "execution_count": null,
   "metadata": {},
   "outputs": [],
   "source": [
    "import matplotlib.pyplot as plt\n",
    "fig, ax = plt.subplots(figsize=(60,20))\n",
    "x = np.arange(0,len(prior_labels))\n",
    "# y= np.arange(0,30000,100)\n",
    "width = 0.35\n",
    "\n",
    "import random\n",
    "\n",
    "rect1 = ax.bar(x - width/2, prior_labels, width)\n",
    "\n",
    "# Add some text for labels, title and custom x-axis tick labels, etc.\n",
    "ax.set_ylabel('')\n",
    "ax.set_title('')\n",
    "ax.set_xticks(x)\n",
    "# ax.set_yticks(y)\n",
    "ax.set_xticklabels(x)\n",
    "\n",
    "def autolabel(rects):\n",
    "    \"\"\"Attach a text label above each bar in *rects*, displaying its height.\"\"\"\n",
    "    for rect in rects:\n",
    "        height = rect.get_height()\n",
    "        ax.annotate('{}'.format(list(prior_dict.keys())[rects.index(rect)]),\n",
    "                    xy=(rect.get_x() + rect.get_width() / 2, height),\n",
    "                    xytext=(0, random.choice(range(5,75, 10))),  # 3 points vertical offset\n",
    "                    textcoords=\"offset points\",\n",
    "                    ha='center', va='bottom', fontsize=20\n",
    "                   )\n",
    "        \n",
    "autolabel(rect1)"
   ]
  },
  {
   "cell_type": "code",
   "execution_count": null,
   "metadata": {},
   "outputs": [],
   "source": [
    "prior_count_dict = {}\n",
    "\n",
    "for k,v in prior_dict.items():\n",
    "    prior_count_dict[k] = prior_labels[v-1]"
   ]
  },
  {
   "cell_type": "code",
   "execution_count": null,
   "metadata": {},
   "outputs": [],
   "source": [
    "prior_count_dict"
   ]
  },
  {
   "cell_type": "code",
   "execution_count": null,
   "metadata": {},
   "outputs": [],
   "source": [
    "# alregions = {}\n",
    "# allabels = {}\n",
    "# alpix = {}\n",
    "# import os\n",
    "# path = '/home/rohan/Datasets/prior_clean/train/masks'\n",
    "# patients = ['1.190926791160849.959...2.7110.0020707682.6516677236020001.735']\n",
    "\n",
    "# sums_lbs={}\n",
    "# shapes = {}\n",
    "# for patient in patients:\n",
    "#     ipdb.set_trace()\n",
    "#     pp = os.path.join(path, patient)\n",
    "#     if not os.path.isdir(pp): continue\n",
    "#     regions = os.listdir(pp)\n",
    "#     for region in regions:\n",
    "#         pr = os.path.join(pp, region)\n",
    "#         if not os.path.isdir(pr): continue\n",
    "#         alregions[region] = alregions.get(region, 0) + 1\n",
    "#         images = os.listdir(pr)\n",
    "#         for imname in images:\n",
    "#             pim = os.path.join(pr, imname)\n",
    "#             if not pim.endswith('jpg'): continue\n",
    "# #             im = io.imread(pim, as_gray=True) > 0.5\n",
    "#             sums_lbs[name] = sums_lbs.get(name, [0,0])\n",
    "#             sums_lbs[name][0] += im.sum()\n",
    "#             sums_lbs[name][1] += (im.shape[0] * im.shape[1])\n",
    "# #             if not os.path.isfile(p): continue\n",
    "#             name = os.path.splitext(imname)[0]\n",
    "            \n",
    "#             allabels[name] = allabels.get(name, 0) + 1"
   ]
  },
  {
   "cell_type": "code",
   "execution_count": null,
   "metadata": {},
   "outputs": [],
   "source": []
  }
 ],
 "metadata": {
  "kernelspec": {
   "display_name": "Python 3",
   "language": "python",
   "name": "python3"
  },
  "language_info": {
   "codemirror_mode": {
    "name": "ipython",
    "version": 3
   },
   "file_extension": ".py",
   "mimetype": "text/x-python",
   "name": "python",
   "nbconvert_exporter": "python",
   "pygments_lexer": "ipython3",
   "version": "3.7.4"
  }
 },
 "nbformat": 4,
 "nbformat_minor": 4
}
